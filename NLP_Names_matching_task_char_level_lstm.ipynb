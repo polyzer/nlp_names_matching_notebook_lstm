{
 "cells": [
  {
   "cell_type": "code",
   "execution_count": 2,
   "metadata": {},
   "outputs": [],
   "source": [
    "# !pip install xgboost\n",
    "# !pip install catboost\n",
    "# !pip install scikit-learn\n",
    "# !pip install pandas\n",
    "# !pip install numpy\n",
    "# !pip install tensorflow-gpu\n",
    "# !pip install keras"
   ]
  },
  {
   "cell_type": "code",
   "execution_count": 3,
   "metadata": {},
   "outputs": [
    {
     "name": "stderr",
     "output_type": "stream",
     "text": [
      "Using TensorFlow backend.\n"
     ]
    }
   ],
   "source": [
    "import numpy as np\n",
    "import pandas as pd\n",
    "import keras\n",
    "from keras.layers import Dense, Dropout, Activation\n",
    "from keras.layers import Embedding, LSTM\n",
    "from keras.layers import Conv1D, GlobalMaxPooling1D\n",
    "from keras.models import Sequential\n",
    "from keras.callbacks import TensorBoard\n",
    "import tensorflow as tf\n",
    "from keras_preprocessing.text import Tokenizer\n",
    "from keras_preprocessing.sequence import pad_sequences\n",
    "from keras import backend as K\n",
    "from sklearn.model_selection import train_test_split\n",
    "from sklearn.feature_extraction.text import TfidfVectorizer, HashingVectorizer, CountVectorizer"
   ]
  },
  {
   "cell_type": "markdown",
   "metadata": {},
   "source": [
    "Попробуем сделать предсказание на основе LSTM/GRU нейросети."
   ]
  },
  {
   "cell_type": "markdown",
   "metadata": {},
   "source": [
    "Загрузим данные и посмотрим на них"
   ]
  },
  {
   "cell_type": "code",
   "execution_count": 4,
   "metadata": {},
   "outputs": [],
   "source": [
    "data_train = pd.read_csv('./data/train_data.tsv', sep='\\t')\n",
    "data_test = pd.read_csv('./data/test_data.tsv', sep='\\t')"
   ]
  },
  {
   "cell_type": "markdown",
   "metadata": {},
   "source": [
    "Напишем метрики для вызова в keras"
   ]
  },
  {
   "cell_type": "code",
   "execution_count": 5,
   "metadata": {},
   "outputs": [],
   "source": [
    "def recall_m(y_true, y_pred):\n",
    "        true_positives = K.sum(K.round(K.clip(y_true * y_pred, 0, 1)))\n",
    "        possible_positives = K.sum(K.round(K.clip(y_true, 0, 1)))\n",
    "        recall = true_positives / (possible_positives + K.epsilon())\n",
    "        return recall\n",
    "\n",
    "def precision_m(y_true, y_pred):\n",
    "        true_positives = K.sum(K.round(K.clip(y_true * y_pred, 0, 1)))\n",
    "        predicted_positives = K.sum(K.round(K.clip(y_pred, 0, 1)))\n",
    "        precision = true_positives / (predicted_positives + K.epsilon())\n",
    "        return precision\n",
    "\n",
    "def f1_m(y_true, y_pred):\n",
    "    precision = precision_m(y_true, y_pred)\n",
    "    recall = recall_m(y_true, y_pred)\n",
    "    return 2*((precision*recall)/(precision+recall+K.epsilon()))\n"
   ]
  },
  {
   "cell_type": "code",
   "execution_count": 6,
   "metadata": {},
   "outputs": [
    {
     "data": {
      "text/html": [
       "<div>\n",
       "<style scoped>\n",
       "    .dataframe tbody tr th:only-of-type {\n",
       "        vertical-align: middle;\n",
       "    }\n",
       "\n",
       "    .dataframe tbody tr th {\n",
       "        vertical-align: top;\n",
       "    }\n",
       "\n",
       "    .dataframe thead th {\n",
       "        text-align: right;\n",
       "    }\n",
       "</style>\n",
       "<table border=\"1\" class=\"dataframe\">\n",
       "  <thead>\n",
       "    <tr style=\"text-align: right;\">\n",
       "      <th></th>\n",
       "      <th>Unnamed: 0</th>\n",
       "      <th>ru_name</th>\n",
       "      <th>eng_name</th>\n",
       "      <th>answer</th>\n",
       "    </tr>\n",
       "  </thead>\n",
       "  <tbody>\n",
       "    <tr>\n",
       "      <th>48</th>\n",
       "      <td>48</td>\n",
       "      <td>Некоммерческое партнерство \"Компьютерная сеть ...</td>\n",
       "      <td>Microlan</td>\n",
       "      <td>True</td>\n",
       "    </tr>\n",
       "    <tr>\n",
       "      <th>62</th>\n",
       "      <td>62</td>\n",
       "      <td>Общество с ограниченной ответственностью \"Торг...</td>\n",
       "      <td>Limited Liadility Company \"Trade House Achinsk\"</td>\n",
       "      <td>True</td>\n",
       "    </tr>\n",
       "    <tr>\n",
       "      <th>76</th>\n",
       "      <td>76</td>\n",
       "      <td>Общество с ограниченной ответственностью \"Венд...</td>\n",
       "      <td>\"Vending\" Ltd</td>\n",
       "      <td>True</td>\n",
       "    </tr>\n",
       "    <tr>\n",
       "      <th>164</th>\n",
       "      <td>164</td>\n",
       "      <td>Общество с ограниченной ответственностью \"Бухт...</td>\n",
       "      <td>\"The Bay of Captains\" Ltd</td>\n",
       "      <td>True</td>\n",
       "    </tr>\n",
       "    <tr>\n",
       "      <th>182</th>\n",
       "      <td>182</td>\n",
       "      <td>ЗАО \"Пристень-cахар\"</td>\n",
       "      <td>Open Joint Stock Company \"Pristen-sugar\"</td>\n",
       "      <td>True</td>\n",
       "    </tr>\n",
       "    <tr>\n",
       "      <th>...</th>\n",
       "      <td>...</td>\n",
       "      <td>...</td>\n",
       "      <td>...</td>\n",
       "      <td>...</td>\n",
       "    </tr>\n",
       "    <tr>\n",
       "      <th>3983094</th>\n",
       "      <td>3983094</td>\n",
       "      <td>ОБЩЕСТВО С ОГРАНИЧЕННОЙ ОТВЕТСТВЕННОСТЬЮ САНРО...</td>\n",
       "      <td>SANROSE-2</td>\n",
       "      <td>True</td>\n",
       "    </tr>\n",
       "    <tr>\n",
       "      <th>3983106</th>\n",
       "      <td>3983106</td>\n",
       "      <td>Общество с ограниченной ответственностью \"Трио...</td>\n",
       "      <td>TrioExpert</td>\n",
       "      <td>True</td>\n",
       "    </tr>\n",
       "    <tr>\n",
       "      <th>3983119</th>\n",
       "      <td>3983119</td>\n",
       "      <td>ООО \"СВ-Финанс\"</td>\n",
       "      <td>\"SV-Finance\" LLC</td>\n",
       "      <td>True</td>\n",
       "    </tr>\n",
       "    <tr>\n",
       "      <th>3983178</th>\n",
       "      <td>3983178</td>\n",
       "      <td>Общество с ограниченной ответственностью \"Эксе...</td>\n",
       "      <td>\"Excellent\"</td>\n",
       "      <td>True</td>\n",
       "    </tr>\n",
       "    <tr>\n",
       "      <th>3983179</th>\n",
       "      <td>3983179</td>\n",
       "      <td>АО \"АГРОСНАБТРАНС\"</td>\n",
       "      <td>JULKIR, ENT.CL, CORP.LTOL</td>\n",
       "      <td>True</td>\n",
       "    </tr>\n",
       "  </tbody>\n",
       "</table>\n",
       "<p>182876 rows × 4 columns</p>\n",
       "</div>"
      ],
      "text/plain": [
       "         Unnamed: 0                                            ru_name  \\\n",
       "48               48  Некоммерческое партнерство \"Компьютерная сеть ...   \n",
       "62               62  Общество с ограниченной ответственностью \"Торг...   \n",
       "76               76  Общество с ограниченной ответственностью \"Венд...   \n",
       "164             164  Общество с ограниченной ответственностью \"Бухт...   \n",
       "182             182                               ЗАО \"Пристень-cахар\"   \n",
       "...             ...                                                ...   \n",
       "3983094     3983094  ОБЩЕСТВО С ОГРАНИЧЕННОЙ ОТВЕТСТВЕННОСТЬЮ САНРО...   \n",
       "3983106     3983106  Общество с ограниченной ответственностью \"Трио...   \n",
       "3983119     3983119                                    ООО \"СВ-Финанс\"   \n",
       "3983178     3983178  Общество с ограниченной ответственностью \"Эксе...   \n",
       "3983179     3983179                                 АО \"АГРОСНАБТРАНС\"   \n",
       "\n",
       "                                                eng_name  answer  \n",
       "48                                              Microlan    True  \n",
       "62       Limited Liadility Company \"Trade House Achinsk\"    True  \n",
       "76                                         \"Vending\" Ltd    True  \n",
       "164                            \"The Bay of Captains\" Ltd    True  \n",
       "182             Open Joint Stock Company \"Pristen-sugar\"    True  \n",
       "...                                                  ...     ...  \n",
       "3983094                                        SANROSE-2    True  \n",
       "3983106                                       TrioExpert    True  \n",
       "3983119                                 \"SV-Finance\" LLC    True  \n",
       "3983178                                      \"Excellent\"    True  \n",
       "3983179                        JULKIR, ENT.CL, CORP.LTOL    True  \n",
       "\n",
       "[182876 rows x 4 columns]"
      ]
     },
     "execution_count": 6,
     "metadata": {},
     "output_type": "execute_result"
    }
   ],
   "source": [
    "#train_df.head()\n",
    "data_train[data_train[\"answer\"] == True]"
   ]
  },
  {
   "cell_type": "code",
   "execution_count": 7,
   "metadata": {},
   "outputs": [
    {
     "data": {
      "text/html": [
       "<div>\n",
       "<style scoped>\n",
       "    .dataframe tbody tr th:only-of-type {\n",
       "        vertical-align: middle;\n",
       "    }\n",
       "\n",
       "    .dataframe tbody tr th {\n",
       "        vertical-align: top;\n",
       "    }\n",
       "\n",
       "    .dataframe thead th {\n",
       "        text-align: right;\n",
       "    }\n",
       "</style>\n",
       "<table border=\"1\" class=\"dataframe\">\n",
       "  <thead>\n",
       "    <tr style=\"text-align: right;\">\n",
       "      <th></th>\n",
       "      <th>Unnamed: 0</th>\n",
       "      <th>ru_name</th>\n",
       "      <th>eng_name</th>\n",
       "    </tr>\n",
       "  </thead>\n",
       "  <tbody>\n",
       "    <tr>\n",
       "      <th>0</th>\n",
       "      <td>0</td>\n",
       "      <td>ООО \"Технология-СМ\"</td>\n",
       "      <td>TRANSMOROZ GMBH</td>\n",
       "    </tr>\n",
       "    <tr>\n",
       "      <th>1</th>\n",
       "      <td>1</td>\n",
       "      <td>Общество с ограниченной ответственностью Научн...</td>\n",
       "      <td>\"OBS\" Limited Liability Company</td>\n",
       "    </tr>\n",
       "    <tr>\n",
       "      <th>2</th>\n",
       "      <td>2</td>\n",
       "      <td>Общество с ограниченной ответственностью \"Торг...</td>\n",
       "      <td>Synthesis Engineering LTD</td>\n",
       "    </tr>\n",
       "    <tr>\n",
       "      <th>3</th>\n",
       "      <td>3</td>\n",
       "      <td>ООО \"ТД \"Грумант\"</td>\n",
       "      <td>\"RMP Forwarder\" Company Limited</td>\n",
       "    </tr>\n",
       "    <tr>\n",
       "      <th>4</th>\n",
       "      <td>4</td>\n",
       "      <td>ООО \"Отис\"</td>\n",
       "      <td>\"Russian blinis\" limited liability company</td>\n",
       "    </tr>\n",
       "  </tbody>\n",
       "</table>\n",
       "</div>"
      ],
      "text/plain": [
       "   Unnamed: 0                                            ru_name  \\\n",
       "0           0                                ООО \"Технология-СМ\"   \n",
       "1           1  Общество с ограниченной ответственностью Научн...   \n",
       "2           2  Общество с ограниченной ответственностью \"Торг...   \n",
       "3           3                                  ООО \"ТД \"Грумант\"   \n",
       "4           4                                         ООО \"Отис\"   \n",
       "\n",
       "                                     eng_name  \n",
       "0                             TRANSMOROZ GMBH  \n",
       "1             \"OBS\" Limited Liability Company  \n",
       "2                   Synthesis Engineering LTD  \n",
       "3             \"RMP Forwarder\" Company Limited  \n",
       "4  \"Russian blinis\" limited liability company  "
      ]
     },
     "execution_count": 7,
     "metadata": {},
     "output_type": "execute_result"
    }
   ],
   "source": [
    "data_test.head()"
   ]
  },
  {
   "cell_type": "code",
   "execution_count": 8,
   "metadata": {},
   "outputs": [],
   "source": [
    "np.random.seed(7)"
   ]
  },
  {
   "cell_type": "markdown",
   "metadata": {},
   "source": [
    "Сделаем предобработку.\n",
    "Объединим нужные поля. Затем удалим лишние символы."
   ]
  },
  {
   "cell_type": "code",
   "execution_count": 9,
   "metadata": {},
   "outputs": [],
   "source": [
    "data_train[\"data\"] = data_train[\"ru_name\"] +\" \" + data_train[\"eng_name\"]\n",
    "data_train[\"data\"]\n",
    "data_train[\"answer\"] = data_train[\"answer\"].astype(int)"
   ]
  },
  {
   "cell_type": "code",
   "execution_count": 10,
   "metadata": {},
   "outputs": [],
   "source": [
    "data_test[\"data\"] = data_test[\"ru_name\"] + \" \" + data_test[\"eng_name\"]"
   ]
  },
  {
   "cell_type": "code",
   "execution_count": 11,
   "metadata": {},
   "outputs": [],
   "source": [
    "# data_train.groupby('data')['data']"
   ]
  },
  {
   "cell_type": "code",
   "execution_count": 12,
   "metadata": {},
   "outputs": [],
   "source": [
    "data_train[\"data\"].replace(\"[^А-Яа-яA-Za-z0-9 ]\", \"\", regex=True, inplace=True)\n",
    "data_train[\"data\"] = data_train[\"data\"].str.lower()\n",
    "data_test[\"data\"].replace(\"[^А-Яа-яA-Za-z0-9 ]\", \"\", regex=True, inplace=True)\n",
    "data_test[\"data\"] = data_test[\"data\"].str.lower()"
   ]
  },
  {
   "cell_type": "code",
   "execution_count": 13,
   "metadata": {},
   "outputs": [
    {
     "data": {
      "text/plain": [
       "общество            1832109\n",
       "ооо                 1671662\n",
       "с                   1664658\n",
       "ограниченной        1653624\n",
       "ответственностью    1651675\n",
       "                     ...   \n",
       "сибстройцентр             1\n",
       "autocarrus                1\n",
       "резервто                  1\n",
       "дезмедсан                 1\n",
       "агробелтревел             1\n",
       "Length: 544152, dtype: int64"
      ]
     },
     "execution_count": 13,
     "metadata": {},
     "output_type": "execute_result"
    }
   ],
   "source": [
    "cts = data_train[\"data\"].str.split(expand=True).stack().value_counts()\n",
    "cts"
   ]
  },
  {
   "cell_type": "code",
   "execution_count": 14,
   "metadata": {},
   "outputs": [],
   "source": [
    "rep_dict = {\"общество с ограниченной ответственностью\": \"\", \" \": \"\"}\n",
    "for name in cts.index[:80]:\n",
    "    if len(name) > 2:\n",
    "        rep_dict[name] = \"\""
   ]
  },
  {
   "cell_type": "code",
   "execution_count": 15,
   "metadata": {},
   "outputs": [],
   "source": [
    "data_train[\"data\"].replace(rep_dict, regex=True, inplace=True)"
   ]
  },
  {
   "cell_type": "code",
   "execution_count": 16,
   "metadata": {},
   "outputs": [],
   "source": [
    "data_test[\"data\"].replace(rep_dict, regex=True, inplace=True)"
   ]
  },
  {
   "cell_type": "code",
   "execution_count": 17,
   "metadata": {},
   "outputs": [],
   "source": [
    "data_train[\"data_len\"] = data_train['data'].str.len()"
   ]
  },
  {
   "cell_type": "code",
   "execution_count": 18,
   "metadata": {},
   "outputs": [
    {
     "data": {
      "text/html": [
       "<div>\n",
       "<style scoped>\n",
       "    .dataframe tbody tr th:only-of-type {\n",
       "        vertical-align: middle;\n",
       "    }\n",
       "\n",
       "    .dataframe tbody tr th {\n",
       "        vertical-align: top;\n",
       "    }\n",
       "\n",
       "    .dataframe thead th {\n",
       "        text-align: right;\n",
       "    }\n",
       "</style>\n",
       "<table border=\"1\" class=\"dataframe\">\n",
       "  <thead>\n",
       "    <tr style=\"text-align: right;\">\n",
       "      <th></th>\n",
       "      <th>Unnamed: 0</th>\n",
       "      <th>ru_name</th>\n",
       "      <th>eng_name</th>\n",
       "      <th>answer</th>\n",
       "      <th>data</th>\n",
       "      <th>data_len</th>\n",
       "    </tr>\n",
       "  </thead>\n",
       "  <tbody>\n",
       "    <tr>\n",
       "      <th>48</th>\n",
       "      <td>48</td>\n",
       "      <td>Некоммерческое партнерство \"Компьютерная сеть ...</td>\n",
       "      <td>Microlan</td>\n",
       "      <td>1</td>\n",
       "      <td>некоммерческоепартнерствокомпьютернаясетьмикро...</td>\n",
       "      <td>57</td>\n",
       "    </tr>\n",
       "    <tr>\n",
       "      <th>62</th>\n",
       "      <td>62</td>\n",
       "      <td>Общество с ограниченной ответственностью \"Торг...</td>\n",
       "      <td>Limited Liadility Company \"Trade House Achinsk\"</td>\n",
       "      <td>1</td>\n",
       "      <td>ачинскliadilityachinsk</td>\n",
       "      <td>22</td>\n",
       "    </tr>\n",
       "    <tr>\n",
       "      <th>76</th>\n",
       "      <td>76</td>\n",
       "      <td>Общество с ограниченной ответственностью \"Венд...</td>\n",
       "      <td>\"Vending\" Ltd</td>\n",
       "      <td>1</td>\n",
       "      <td>вендингvending</td>\n",
       "      <td>14</td>\n",
       "    </tr>\n",
       "    <tr>\n",
       "      <th>164</th>\n",
       "      <td>164</td>\n",
       "      <td>Общество с ограниченной ответственностью \"Бухт...</td>\n",
       "      <td>\"The Bay of Captains\" Ltd</td>\n",
       "      <td>1</td>\n",
       "      <td>бухтакапитановbayofcaptains</td>\n",
       "      <td>27</td>\n",
       "    </tr>\n",
       "    <tr>\n",
       "      <th>182</th>\n",
       "      <td>182</td>\n",
       "      <td>ЗАО \"Пристень-cахар\"</td>\n",
       "      <td>Open Joint Stock Company \"Pristen-sugar\"</td>\n",
       "      <td>1</td>\n",
       "      <td>пристеньcахарopenpristensugar</td>\n",
       "      <td>29</td>\n",
       "    </tr>\n",
       "    <tr>\n",
       "      <th>...</th>\n",
       "      <td>...</td>\n",
       "      <td>...</td>\n",
       "      <td>...</td>\n",
       "      <td>...</td>\n",
       "      <td>...</td>\n",
       "      <td>...</td>\n",
       "    </tr>\n",
       "    <tr>\n",
       "      <th>3983094</th>\n",
       "      <td>3983094</td>\n",
       "      <td>ОБЩЕСТВО С ОГРАНИЧЕННОЙ ОТВЕТСТВЕННОСТЬЮ САНРО...</td>\n",
       "      <td>SANROSE-2</td>\n",
       "      <td>1</td>\n",
       "      <td>санрозе2sanrose2</td>\n",
       "      <td>16</td>\n",
       "    </tr>\n",
       "    <tr>\n",
       "      <th>3983106</th>\n",
       "      <td>3983106</td>\n",
       "      <td>Общество с ограниченной ответственностью \"Трио...</td>\n",
       "      <td>TrioExpert</td>\n",
       "      <td>1</td>\n",
       "      <td>триоэкспертtrioexpert</td>\n",
       "      <td>21</td>\n",
       "    </tr>\n",
       "    <tr>\n",
       "      <th>3983119</th>\n",
       "      <td>3983119</td>\n",
       "      <td>ООО \"СВ-Финанс\"</td>\n",
       "      <td>\"SV-Finance\" LLC</td>\n",
       "      <td>1</td>\n",
       "      <td>свфинансsvfinance</td>\n",
       "      <td>17</td>\n",
       "    </tr>\n",
       "    <tr>\n",
       "      <th>3983178</th>\n",
       "      <td>3983178</td>\n",
       "      <td>Общество с ограниченной ответственностью \"Эксе...</td>\n",
       "      <td>\"Excellent\"</td>\n",
       "      <td>1</td>\n",
       "      <td>экселентexcellent</td>\n",
       "      <td>17</td>\n",
       "    </tr>\n",
       "    <tr>\n",
       "      <th>3983179</th>\n",
       "      <td>3983179</td>\n",
       "      <td>АО \"АГРОСНАБТРАНС\"</td>\n",
       "      <td>JULKIR, ENT.CL, CORP.LTOL</td>\n",
       "      <td>1</td>\n",
       "      <td>аоагроснабтрансjulkirentclcorpltol</td>\n",
       "      <td>34</td>\n",
       "    </tr>\n",
       "  </tbody>\n",
       "</table>\n",
       "<p>182876 rows × 6 columns</p>\n",
       "</div>"
      ],
      "text/plain": [
       "         Unnamed: 0                                            ru_name  \\\n",
       "48               48  Некоммерческое партнерство \"Компьютерная сеть ...   \n",
       "62               62  Общество с ограниченной ответственностью \"Торг...   \n",
       "76               76  Общество с ограниченной ответственностью \"Венд...   \n",
       "164             164  Общество с ограниченной ответственностью \"Бухт...   \n",
       "182             182                               ЗАО \"Пристень-cахар\"   \n",
       "...             ...                                                ...   \n",
       "3983094     3983094  ОБЩЕСТВО С ОГРАНИЧЕННОЙ ОТВЕТСТВЕННОСТЬЮ САНРО...   \n",
       "3983106     3983106  Общество с ограниченной ответственностью \"Трио...   \n",
       "3983119     3983119                                    ООО \"СВ-Финанс\"   \n",
       "3983178     3983178  Общество с ограниченной ответственностью \"Эксе...   \n",
       "3983179     3983179                                 АО \"АГРОСНАБТРАНС\"   \n",
       "\n",
       "                                                eng_name  answer  \\\n",
       "48                                              Microlan       1   \n",
       "62       Limited Liadility Company \"Trade House Achinsk\"       1   \n",
       "76                                         \"Vending\" Ltd       1   \n",
       "164                            \"The Bay of Captains\" Ltd       1   \n",
       "182             Open Joint Stock Company \"Pristen-sugar\"       1   \n",
       "...                                                  ...     ...   \n",
       "3983094                                        SANROSE-2       1   \n",
       "3983106                                       TrioExpert       1   \n",
       "3983119                                 \"SV-Finance\" LLC       1   \n",
       "3983178                                      \"Excellent\"       1   \n",
       "3983179                        JULKIR, ENT.CL, CORP.LTOL       1   \n",
       "\n",
       "                                                      data  data_len  \n",
       "48       некоммерческоепартнерствокомпьютернаясетьмикро...        57  \n",
       "62                                  ачинскliadilityachinsk        22  \n",
       "76                                          вендингvending        14  \n",
       "164                            бухтакапитановbayofcaptains        27  \n",
       "182                          пристеньcахарopenpristensugar        29  \n",
       "...                                                    ...       ...  \n",
       "3983094                                   санрозе2sanrose2        16  \n",
       "3983106                              триоэкспертtrioexpert        21  \n",
       "3983119                                  свфинансsvfinance        17  \n",
       "3983178                                  экселентexcellent        17  \n",
       "3983179                 аоагроснабтрансjulkirentclcorpltol        34  \n",
       "\n",
       "[182876 rows x 6 columns]"
      ]
     },
     "execution_count": 18,
     "metadata": {},
     "output_type": "execute_result"
    }
   ],
   "source": [
    "data_train[data_train[\"answer\"] == 1]"
   ]
  },
  {
   "cell_type": "code",
   "execution_count": 19,
   "metadata": {},
   "outputs": [],
   "source": [
    "tokenizer = Tokenizer(\n",
    "    char_level=True,\n",
    "    lower=True\n",
    ")"
   ]
  },
  {
   "cell_type": "code",
   "execution_count": 20,
   "metadata": {},
   "outputs": [],
   "source": [
    "tokenizer.fit_on_texts([\" \".join(data_train[\"data\"])])"
   ]
  },
  {
   "cell_type": "code",
   "execution_count": 21,
   "metadata": {},
   "outputs": [
    {
     "data": {
      "text/plain": [
       "0.04591179510559718"
      ]
     },
     "execution_count": 21,
     "metadata": {},
     "output_type": "execute_result"
    }
   ],
   "source": [
    "data_train[data_train[\"answer\"] == 1].shape[0]/data_train.shape[0]"
   ]
  },
  {
   "cell_type": "markdown",
   "metadata": {},
   "source": [
    "Уменьшаем количество неправильных данных в датасете, и делаем соотношение ответов 1:3."
   ]
  },
  {
   "cell_type": "code",
   "execution_count": 22,
   "metadata": {},
   "outputs": [],
   "source": [
    "cleared = data_train[data_train[\"answer\"] == 1]"
   ]
  },
  {
   "cell_type": "code",
   "execution_count": 23,
   "metadata": {},
   "outputs": [],
   "source": [
    "cleared = cleared.append( data_train[data_train[\"answer\"] == 0].head(cleared.shape[0]*3))"
   ]
  },
  {
   "cell_type": "code",
   "execution_count": 24,
   "metadata": {},
   "outputs": [],
   "source": [
    "cleared = cleared.sample(frac=1).reset_index(drop=True)"
   ]
  },
  {
   "cell_type": "code",
   "execution_count": 25,
   "metadata": {},
   "outputs": [
    {
     "data": {
      "text/html": [
       "<div>\n",
       "<style scoped>\n",
       "    .dataframe tbody tr th:only-of-type {\n",
       "        vertical-align: middle;\n",
       "    }\n",
       "\n",
       "    .dataframe tbody tr th {\n",
       "        vertical-align: top;\n",
       "    }\n",
       "\n",
       "    .dataframe thead th {\n",
       "        text-align: right;\n",
       "    }\n",
       "</style>\n",
       "<table border=\"1\" class=\"dataframe\">\n",
       "  <thead>\n",
       "    <tr style=\"text-align: right;\">\n",
       "      <th></th>\n",
       "      <th>Unnamed: 0</th>\n",
       "      <th>ru_name</th>\n",
       "      <th>eng_name</th>\n",
       "      <th>answer</th>\n",
       "      <th>data</th>\n",
       "      <th>data_len</th>\n",
       "    </tr>\n",
       "  </thead>\n",
       "  <tbody>\n",
       "    <tr>\n",
       "      <th>0</th>\n",
       "      <td>522353</td>\n",
       "      <td>Общество с ограниченной ответственностью \"Ай п...</td>\n",
       "      <td>Crystal-DV, Limited Liability Company</td>\n",
       "      <td>0</td>\n",
       "      <td>айcrystaldv</td>\n",
       "      <td>11</td>\n",
       "    </tr>\n",
       "    <tr>\n",
       "      <th>1</th>\n",
       "      <td>1652884</td>\n",
       "      <td>ОАО \"БИЗНЕСГИПРОДОРИНВЕСТ\"</td>\n",
       "      <td>\"BIZNESGIPRODORINVEST\"</td>\n",
       "      <td>1</td>\n",
       "      <td>бизнесгипродоринвестbiznesgiprodorinvest</td>\n",
       "      <td>40</td>\n",
       "    </tr>\n",
       "    <tr>\n",
       "      <th>2</th>\n",
       "      <td>119353</td>\n",
       "      <td>ООО \"Вип-мастер\"</td>\n",
       "      <td>\"Quest-treid\" Limited Liability Company</td>\n",
       "      <td>0</td>\n",
       "      <td>випмастерquesttreid</td>\n",
       "      <td>19</td>\n",
       "    </tr>\n",
       "    <tr>\n",
       "      <th>3</th>\n",
       "      <td>2484224</td>\n",
       "      <td>Общество с ограниченной ответственностью \"Ради...</td>\n",
       "      <td>\"Radiopharmaceutical Preparations\"</td>\n",
       "      <td>1</td>\n",
       "      <td>радиофармацевтическиепрепаратыradiopharmaceuti...</td>\n",
       "      <td>61</td>\n",
       "    </tr>\n",
       "    <tr>\n",
       "      <th>4</th>\n",
       "      <td>454192</td>\n",
       "      <td>ООО \"Логика С\"</td>\n",
       "      <td>SISTEMA LTD</td>\n",
       "      <td>0</td>\n",
       "      <td>логикасsistema</td>\n",
       "      <td>14</td>\n",
       "    </tr>\n",
       "    <tr>\n",
       "      <th>...</th>\n",
       "      <td>...</td>\n",
       "      <td>...</td>\n",
       "      <td>...</td>\n",
       "      <td>...</td>\n",
       "      <td>...</td>\n",
       "      <td>...</td>\n",
       "    </tr>\n",
       "    <tr>\n",
       "      <th>95</th>\n",
       "      <td>387155</td>\n",
       "      <td>Закрытое акционерное общество \"КМВ - тур\"</td>\n",
       "      <td>FIRM \"TECHOSTROY\"</td>\n",
       "      <td>0</td>\n",
       "      <td>кмвтурfirmtechostroy</td>\n",
       "      <td>20</td>\n",
       "    </tr>\n",
       "    <tr>\n",
       "      <th>96</th>\n",
       "      <td>165937</td>\n",
       "      <td>Общество с ограниченной ответственностью \"Конц...</td>\n",
       "      <td>\"LADOGA LAKE\" Company Limited</td>\n",
       "      <td>0</td>\n",
       "      <td>концептфинансladogalake</td>\n",
       "      <td>23</td>\n",
       "    </tr>\n",
       "    <tr>\n",
       "      <th>97</th>\n",
       "      <td>407405</td>\n",
       "      <td>ООО \"Игровые технологии\"</td>\n",
       "      <td>Общество с ограниченной ответственностью \"SL P...</td>\n",
       "      <td>0</td>\n",
       "      <td>игровыеslpartner</td>\n",
       "      <td>16</td>\n",
       "    </tr>\n",
       "    <tr>\n",
       "      <th>98</th>\n",
       "      <td>463168</td>\n",
       "      <td>ООО \"СМП \"Арсенал Безопасности\"</td>\n",
       "      <td>Arsenal of Safety, Limited liability company</td>\n",
       "      <td>1</td>\n",
       "      <td>смпарсеналбезопасностиarsenalofsafety</td>\n",
       "      <td>37</td>\n",
       "    </tr>\n",
       "    <tr>\n",
       "      <th>99</th>\n",
       "      <td>3273810</td>\n",
       "      <td>ООО \"ОФФ-ГРИД\"</td>\n",
       "      <td>\"OFF-GRID\" Limited Liabililty Company</td>\n",
       "      <td>1</td>\n",
       "      <td>оффгридoffgridliabililty</td>\n",
       "      <td>24</td>\n",
       "    </tr>\n",
       "  </tbody>\n",
       "</table>\n",
       "<p>100 rows × 6 columns</p>\n",
       "</div>"
      ],
      "text/plain": [
       "    Unnamed: 0                                            ru_name  \\\n",
       "0       522353  Общество с ограниченной ответственностью \"Ай п...   \n",
       "1      1652884                         ОАО \"БИЗНЕСГИПРОДОРИНВЕСТ\"   \n",
       "2       119353                                   ООО \"Вип-мастер\"   \n",
       "3      2484224  Общество с ограниченной ответственностью \"Ради...   \n",
       "4       454192                                     ООО \"Логика С\"   \n",
       "..         ...                                                ...   \n",
       "95      387155          Закрытое акционерное общество \"КМВ - тур\"   \n",
       "96      165937  Общество с ограниченной ответственностью \"Конц...   \n",
       "97      407405                           ООО \"Игровые технологии\"   \n",
       "98      463168                    ООО \"СМП \"Арсенал Безопасности\"   \n",
       "99     3273810                                     ООО \"ОФФ-ГРИД\"   \n",
       "\n",
       "                                             eng_name  answer  \\\n",
       "0               Crystal-DV, Limited Liability Company       0   \n",
       "1                              \"BIZNESGIPRODORINVEST\"       1   \n",
       "2             \"Quest-treid\" Limited Liability Company       0   \n",
       "3                  \"Radiopharmaceutical Preparations\"       1   \n",
       "4                                         SISTEMA LTD       0   \n",
       "..                                                ...     ...   \n",
       "95                                  FIRM \"TECHOSTROY\"       0   \n",
       "96                      \"LADOGA LAKE\" Company Limited       0   \n",
       "97  Общество с ограниченной ответственностью \"SL P...       0   \n",
       "98       Arsenal of Safety, Limited liability company       1   \n",
       "99              \"OFF-GRID\" Limited Liabililty Company       1   \n",
       "\n",
       "                                                 data  data_len  \n",
       "0                                         айcrystaldv        11  \n",
       "1            бизнесгипродоринвестbiznesgiprodorinvest        40  \n",
       "2                                 випмастерquesttreid        19  \n",
       "3   радиофармацевтическиепрепаратыradiopharmaceuti...        61  \n",
       "4                                      логикасsistema        14  \n",
       "..                                                ...       ...  \n",
       "95                               кмвтурfirmtechostroy        20  \n",
       "96                            концептфинансladogalake        23  \n",
       "97                                   игровыеslpartner        16  \n",
       "98              смпарсеналбезопасностиarsenalofsafety        37  \n",
       "99                           оффгридoffgridliabililty        24  \n",
       "\n",
       "[100 rows x 6 columns]"
      ]
     },
     "execution_count": 25,
     "metadata": {},
     "output_type": "execute_result"
    }
   ],
   "source": [
    "cleared.head(100)"
   ]
  },
  {
   "cell_type": "code",
   "execution_count": 38,
   "metadata": {},
   "outputs": [],
   "source": [
    "def get_model1(max_features = 100):\n",
    "    maxlen = 80\n",
    "    batch_size = 32\n",
    "\n",
    "    model = Sequential()\n",
    "    model.add(Embedding(max_features, 256))\n",
    "    model.add(LSTM(256, dropout=0.2, recurrent_dropout=0.2))\n",
    "    model.add(Dense(1, activation='sigmoid'))\n",
    "\n",
    "    # try using different optimizers and different optimizer configs\n",
    "    model.compile(optimizer='adam', loss='binary_crossentropy', metrics=[f1_m])\n",
    "    return model"
   ]
  },
  {
   "cell_type": "code",
   "execution_count": 27,
   "metadata": {},
   "outputs": [
    {
     "data": {
      "text/plain": [
       "0                                технологиясмtransmorozgmbh\n",
       "1         научнопроизводственноерадиационныйконтрольприб...\n",
       "2                                      сптsynsisengineering\n",
       "3                                        тдгрумантrmpwarder\n",
       "4                                                отисblinis\n",
       "                                ...                        \n",
       "996047    федеральноегосударственноебюджетноеобразовател...\n",
       "996048                                           ритмsinton\n",
       "996049                                             трубоwts\n",
       "996050                                    евростройmonograd\n",
       "996051                                        новыемедиаnew\n",
       "Name: data, Length: 996052, dtype: object"
      ]
     },
     "execution_count": 27,
     "metadata": {},
     "output_type": "execute_result"
    }
   ],
   "source": [
    "data_test[\"data\"]"
   ]
  },
  {
   "cell_type": "code",
   "execution_count": 28,
   "metadata": {},
   "outputs": [],
   "source": [
    "# split a training set and a test set\n",
    "X_train, X_valid, y_train, y_valid = train_test_split(cleared[\"data\"], cleared[\"answer\"], test_size=0.15, random_state=42)"
   ]
  },
  {
   "cell_type": "markdown",
   "metadata": {},
   "source": [
    "Заменим символы на токены"
   ]
  },
  {
   "cell_type": "code",
   "execution_count": 29,
   "metadata": {},
   "outputs": [],
   "source": [
    "X_test_t = np.apply_along_axis(tokenizer.texts_to_sequences, 0, data_test[\"data\"])"
   ]
  },
  {
   "cell_type": "code",
   "execution_count": 30,
   "metadata": {},
   "outputs": [],
   "source": [
    "X_test_t = pad_sequences(X_test_t, maxlen=100)"
   ]
  },
  {
   "cell_type": "code",
   "execution_count": 31,
   "metadata": {},
   "outputs": [
    {
     "name": "stdout",
     "output_type": "stream",
     "text": [
      "[[ 0  0  0 ... 25 40 39]\n",
      " [ 0  0  0 ... 10 40 17]\n",
      " [ 0  0  0 ... 13 16 30]\n",
      " ...\n",
      " [ 0  0  0 ... 52 14 17]\n",
      " [ 0  0  0 ... 15  7 32]\n",
      " [ 0  0  0 ... 16  6 52]]\n",
      "0                                технологиясмtransmorozgmbh\n",
      "1         научнопроизводственноерадиационныйконтрольприб...\n",
      "2                                      сптsynsisengineering\n",
      "3                                        тдгрумантrmpwarder\n",
      "4                                                отисblinis\n",
      "                                ...                        \n",
      "996047    федеральноегосударственноебюджетноеобразовател...\n",
      "996048                                           ритмsinton\n",
      "996049                                             трубоwts\n",
      "996050                                    евростройmonograd\n",
      "996051                                        новыемедиаnew\n",
      "Name: data, Length: 996052, dtype: object\n"
     ]
    }
   ],
   "source": [
    "print(X_test_t)\n",
    "print(data_test[\"data\"])"
   ]
  },
  {
   "cell_type": "code",
   "execution_count": 32,
   "metadata": {},
   "outputs": [],
   "source": [
    "X_train_t = np.apply_along_axis(tokenizer.texts_to_sequences, 0, X_train)"
   ]
  },
  {
   "cell_type": "code",
   "execution_count": 33,
   "metadata": {},
   "outputs": [],
   "source": [
    "X_train_t = pad_sequences(X_train_t, maxlen=100)"
   ]
  },
  {
   "cell_type": "code",
   "execution_count": 34,
   "metadata": {},
   "outputs": [
    {
     "data": {
      "text/plain": [
       "array([[ 0,  0,  0, ..., 10, 13, 20],\n",
       "       [ 0,  0,  0, ..., 40, 37, 14],\n",
       "       [ 0,  0,  0, ..., 28,  7, 17],\n",
       "       ...,\n",
       "       [ 0,  0,  0, ..., 13, 16, 30],\n",
       "       [ 0,  0,  0, ...,  7, 16, 14],\n",
       "       [ 0,  0,  0, ..., 13, 16, 30]])"
      ]
     },
     "execution_count": 34,
     "metadata": {},
     "output_type": "execute_result"
    }
   ],
   "source": [
    "X_train_t"
   ]
  },
  {
   "cell_type": "code",
   "execution_count": 39,
   "metadata": {},
   "outputs": [],
   "source": [
    "model1 = get_model1(len(tokenizer.word_index) + 1)"
   ]
  },
  {
   "cell_type": "code",
   "execution_count": 36,
   "metadata": {},
   "outputs": [
    {
     "data": {
      "text/plain": [
       "604422    0\n",
       "444527    1\n",
       "71572     0\n",
       "498877    0\n",
       "683667    0\n",
       "         ..\n",
       "259178    1\n",
       "365838    0\n",
       "131932    1\n",
       "671155    1\n",
       "121958    0\n",
       "Name: answer, Length: 621778, dtype: int32"
      ]
     },
     "execution_count": 36,
     "metadata": {},
     "output_type": "execute_result"
    }
   ],
   "source": [
    "y_train"
   ]
  },
  {
   "cell_type": "markdown",
   "metadata": {},
   "source": [
    "Начнём обучение модели:"
   ]
  },
  {
   "cell_type": "code",
   "execution_count": 40,
   "metadata": {},
   "outputs": [
    {
     "name": "stderr",
     "output_type": "stream",
     "text": [
      "c:\\users\\user\\appdata\\local\\continuum\\anaconda3\\envs\\pytorch\\lib\\site-packages\\tensorflow_core\\python\\framework\\indexed_slices.py:433: UserWarning: Converting sparse IndexedSlices to a dense Tensor of unknown shape. This may consume a large amount of memory.\n",
      "  \"Converting sparse IndexedSlices to a dense Tensor of unknown shape. \"\n"
     ]
    },
    {
     "name": "stdout",
     "output_type": "stream",
     "text": [
      "Train on 466333 samples, validate on 155445 samples\n",
      "Epoch 1/8\n",
      "466333/466333 [==============================] - 1135s 2ms/step - loss: 0.3725 - f1_m: 0.5808 - val_loss: 0.2565 - val_f1_m: 0.7686\n",
      "Epoch 2/8\n",
      "466333/466333 [==============================] - 1162s 2ms/step - loss: 0.2383 - f1_m: 0.7876 - val_loss: 0.2023 - val_f1_m: 0.8275\n",
      "Epoch 3/8\n",
      "466333/466333 [==============================] - 1125s 2ms/step - loss: 0.2030 - f1_m: 0.8281 - val_loss: 0.1806 - val_f1_m: 0.8527\n",
      "Epoch 4/8\n",
      "466333/466333 [==============================] - 1121s 2ms/step - loss: 0.1847 - f1_m: 0.8486 - val_loss: 0.1737 - val_f1_m: 0.8625\n",
      "Epoch 5/8\n",
      " 21632/466333 [>.............................] - ETA: 16:44 - loss: 0.1762 - f1_m: 0.8586"
     ]
    },
    {
     "ename": "KeyboardInterrupt",
     "evalue": "",
     "output_type": "error",
     "traceback": [
      "\u001b[1;31m---------------------------------------------------------------------------\u001b[0m",
      "\u001b[1;31mKeyboardInterrupt\u001b[0m                         Traceback (most recent call last)",
      "\u001b[1;32m<ipython-input-40-3724ae068cf8>\u001b[0m in \u001b[0;36m<module>\u001b[1;34m\u001b[0m\n\u001b[1;32m----> 1\u001b[1;33m \u001b[0mhistory\u001b[0m \u001b[1;33m=\u001b[0m \u001b[0mmodel1\u001b[0m\u001b[1;33m.\u001b[0m\u001b[0mfit\u001b[0m\u001b[1;33m(\u001b[0m\u001b[0mX_train_t\u001b[0m\u001b[1;33m,\u001b[0m \u001b[0my_train\u001b[0m\u001b[1;33m,\u001b[0m \u001b[0mvalidation_split\u001b[0m\u001b[1;33m=\u001b[0m\u001b[1;36m0.25\u001b[0m\u001b[1;33m,\u001b[0m \u001b[0mepochs\u001b[0m\u001b[1;33m=\u001b[0m\u001b[1;36m8\u001b[0m\u001b[1;33m)\u001b[0m\u001b[1;33m\u001b[0m\u001b[1;33m\u001b[0m\u001b[0m\n\u001b[0m",
      "\u001b[1;32mc:\\users\\user\\appdata\\local\\continuum\\anaconda3\\envs\\pytorch\\lib\\site-packages\\keras\\engine\\training.py\u001b[0m in \u001b[0;36mfit\u001b[1;34m(self, x, y, batch_size, epochs, verbose, callbacks, validation_split, validation_data, shuffle, class_weight, sample_weight, initial_epoch, steps_per_epoch, validation_steps, validation_freq, max_queue_size, workers, use_multiprocessing, **kwargs)\u001b[0m\n\u001b[0;32m   1237\u001b[0m                                         \u001b[0msteps_per_epoch\u001b[0m\u001b[1;33m=\u001b[0m\u001b[0msteps_per_epoch\u001b[0m\u001b[1;33m,\u001b[0m\u001b[1;33m\u001b[0m\u001b[1;33m\u001b[0m\u001b[0m\n\u001b[0;32m   1238\u001b[0m                                         \u001b[0mvalidation_steps\u001b[0m\u001b[1;33m=\u001b[0m\u001b[0mvalidation_steps\u001b[0m\u001b[1;33m,\u001b[0m\u001b[1;33m\u001b[0m\u001b[1;33m\u001b[0m\u001b[0m\n\u001b[1;32m-> 1239\u001b[1;33m                                         validation_freq=validation_freq)\n\u001b[0m\u001b[0;32m   1240\u001b[0m \u001b[1;33m\u001b[0m\u001b[0m\n\u001b[0;32m   1241\u001b[0m     def evaluate(self,\n",
      "\u001b[1;32mc:\\users\\user\\appdata\\local\\continuum\\anaconda3\\envs\\pytorch\\lib\\site-packages\\keras\\engine\\training_arrays.py\u001b[0m in \u001b[0;36mfit_loop\u001b[1;34m(model, fit_function, fit_inputs, out_labels, batch_size, epochs, verbose, callbacks, val_function, val_inputs, shuffle, initial_epoch, steps_per_epoch, validation_steps, validation_freq)\u001b[0m\n\u001b[0;32m    194\u001b[0m                     \u001b[0mins_batch\u001b[0m\u001b[1;33m[\u001b[0m\u001b[0mi\u001b[0m\u001b[1;33m]\u001b[0m \u001b[1;33m=\u001b[0m \u001b[0mins_batch\u001b[0m\u001b[1;33m[\u001b[0m\u001b[0mi\u001b[0m\u001b[1;33m]\u001b[0m\u001b[1;33m.\u001b[0m\u001b[0mtoarray\u001b[0m\u001b[1;33m(\u001b[0m\u001b[1;33m)\u001b[0m\u001b[1;33m\u001b[0m\u001b[1;33m\u001b[0m\u001b[0m\n\u001b[0;32m    195\u001b[0m \u001b[1;33m\u001b[0m\u001b[0m\n\u001b[1;32m--> 196\u001b[1;33m                 \u001b[0mouts\u001b[0m \u001b[1;33m=\u001b[0m \u001b[0mfit_function\u001b[0m\u001b[1;33m(\u001b[0m\u001b[0mins_batch\u001b[0m\u001b[1;33m)\u001b[0m\u001b[1;33m\u001b[0m\u001b[1;33m\u001b[0m\u001b[0m\n\u001b[0m\u001b[0;32m    197\u001b[0m                 \u001b[0mouts\u001b[0m \u001b[1;33m=\u001b[0m \u001b[0mto_list\u001b[0m\u001b[1;33m(\u001b[0m\u001b[0mouts\u001b[0m\u001b[1;33m)\u001b[0m\u001b[1;33m\u001b[0m\u001b[1;33m\u001b[0m\u001b[0m\n\u001b[0;32m    198\u001b[0m                 \u001b[1;32mfor\u001b[0m \u001b[0ml\u001b[0m\u001b[1;33m,\u001b[0m \u001b[0mo\u001b[0m \u001b[1;32min\u001b[0m \u001b[0mzip\u001b[0m\u001b[1;33m(\u001b[0m\u001b[0mout_labels\u001b[0m\u001b[1;33m,\u001b[0m \u001b[0mouts\u001b[0m\u001b[1;33m)\u001b[0m\u001b[1;33m:\u001b[0m\u001b[1;33m\u001b[0m\u001b[1;33m\u001b[0m\u001b[0m\n",
      "\u001b[1;32mc:\\users\\user\\appdata\\local\\continuum\\anaconda3\\envs\\pytorch\\lib\\site-packages\\tensorflow_core\\python\\keras\\backend.py\u001b[0m in \u001b[0;36m__call__\u001b[1;34m(self, inputs)\u001b[0m\n\u001b[0;32m   3725\u001b[0m         \u001b[0mvalue\u001b[0m \u001b[1;33m=\u001b[0m \u001b[0mmath_ops\u001b[0m\u001b[1;33m.\u001b[0m\u001b[0mcast\u001b[0m\u001b[1;33m(\u001b[0m\u001b[0mvalue\u001b[0m\u001b[1;33m,\u001b[0m \u001b[0mtensor\u001b[0m\u001b[1;33m.\u001b[0m\u001b[0mdtype\u001b[0m\u001b[1;33m)\u001b[0m\u001b[1;33m\u001b[0m\u001b[1;33m\u001b[0m\u001b[0m\n\u001b[0;32m   3726\u001b[0m       \u001b[0mconverted_inputs\u001b[0m\u001b[1;33m.\u001b[0m\u001b[0mappend\u001b[0m\u001b[1;33m(\u001b[0m\u001b[0mvalue\u001b[0m\u001b[1;33m)\u001b[0m\u001b[1;33m\u001b[0m\u001b[1;33m\u001b[0m\u001b[0m\n\u001b[1;32m-> 3727\u001b[1;33m     \u001b[0moutputs\u001b[0m \u001b[1;33m=\u001b[0m \u001b[0mself\u001b[0m\u001b[1;33m.\u001b[0m\u001b[0m_graph_fn\u001b[0m\u001b[1;33m(\u001b[0m\u001b[1;33m*\u001b[0m\u001b[0mconverted_inputs\u001b[0m\u001b[1;33m)\u001b[0m\u001b[1;33m\u001b[0m\u001b[1;33m\u001b[0m\u001b[0m\n\u001b[0m\u001b[0;32m   3728\u001b[0m \u001b[1;33m\u001b[0m\u001b[0m\n\u001b[0;32m   3729\u001b[0m     \u001b[1;31m# EagerTensor.numpy() will often make a copy to ensure memory safety.\u001b[0m\u001b[1;33m\u001b[0m\u001b[1;33m\u001b[0m\u001b[1;33m\u001b[0m\u001b[0m\n",
      "\u001b[1;32mc:\\users\\user\\appdata\\local\\continuum\\anaconda3\\envs\\pytorch\\lib\\site-packages\\tensorflow_core\\python\\eager\\function.py\u001b[0m in \u001b[0;36m__call__\u001b[1;34m(self, *args, **kwargs)\u001b[0m\n\u001b[0;32m   1549\u001b[0m       \u001b[0mTypeError\u001b[0m\u001b[1;33m:\u001b[0m \u001b[0mFor\u001b[0m \u001b[0minvalid\u001b[0m \u001b[0mpositional\u001b[0m\u001b[1;33m/\u001b[0m\u001b[0mkeyword\u001b[0m \u001b[0margument\u001b[0m \u001b[0mcombinations\u001b[0m\u001b[1;33m.\u001b[0m\u001b[1;33m\u001b[0m\u001b[1;33m\u001b[0m\u001b[0m\n\u001b[0;32m   1550\u001b[0m     \"\"\"\n\u001b[1;32m-> 1551\u001b[1;33m     \u001b[1;32mreturn\u001b[0m \u001b[0mself\u001b[0m\u001b[1;33m.\u001b[0m\u001b[0m_call_impl\u001b[0m\u001b[1;33m(\u001b[0m\u001b[0margs\u001b[0m\u001b[1;33m,\u001b[0m \u001b[0mkwargs\u001b[0m\u001b[1;33m)\u001b[0m\u001b[1;33m\u001b[0m\u001b[1;33m\u001b[0m\u001b[0m\n\u001b[0m\u001b[0;32m   1552\u001b[0m \u001b[1;33m\u001b[0m\u001b[0m\n\u001b[0;32m   1553\u001b[0m   \u001b[1;32mdef\u001b[0m \u001b[0m_call_impl\u001b[0m\u001b[1;33m(\u001b[0m\u001b[0mself\u001b[0m\u001b[1;33m,\u001b[0m \u001b[0margs\u001b[0m\u001b[1;33m,\u001b[0m \u001b[0mkwargs\u001b[0m\u001b[1;33m,\u001b[0m \u001b[0mcancellation_manager\u001b[0m\u001b[1;33m=\u001b[0m\u001b[1;32mNone\u001b[0m\u001b[1;33m)\u001b[0m\u001b[1;33m:\u001b[0m\u001b[1;33m\u001b[0m\u001b[1;33m\u001b[0m\u001b[0m\n",
      "\u001b[1;32mc:\\users\\user\\appdata\\local\\continuum\\anaconda3\\envs\\pytorch\\lib\\site-packages\\tensorflow_core\\python\\eager\\function.py\u001b[0m in \u001b[0;36m_call_impl\u001b[1;34m(self, args, kwargs, cancellation_manager)\u001b[0m\n\u001b[0;32m   1589\u001b[0m       raise TypeError(\"Keyword arguments {} unknown. Expected {}.\".format(\n\u001b[0;32m   1590\u001b[0m           list(kwargs.keys()), list(self._arg_keywords)))\n\u001b[1;32m-> 1591\u001b[1;33m     \u001b[1;32mreturn\u001b[0m \u001b[0mself\u001b[0m\u001b[1;33m.\u001b[0m\u001b[0m_call_flat\u001b[0m\u001b[1;33m(\u001b[0m\u001b[0margs\u001b[0m\u001b[1;33m,\u001b[0m \u001b[0mself\u001b[0m\u001b[1;33m.\u001b[0m\u001b[0mcaptured_inputs\u001b[0m\u001b[1;33m,\u001b[0m \u001b[0mcancellation_manager\u001b[0m\u001b[1;33m)\u001b[0m\u001b[1;33m\u001b[0m\u001b[1;33m\u001b[0m\u001b[0m\n\u001b[0m\u001b[0;32m   1592\u001b[0m \u001b[1;33m\u001b[0m\u001b[0m\n\u001b[0;32m   1593\u001b[0m   \u001b[1;32mdef\u001b[0m \u001b[0m_filtered_call\u001b[0m\u001b[1;33m(\u001b[0m\u001b[0mself\u001b[0m\u001b[1;33m,\u001b[0m \u001b[0margs\u001b[0m\u001b[1;33m,\u001b[0m \u001b[0mkwargs\u001b[0m\u001b[1;33m)\u001b[0m\u001b[1;33m:\u001b[0m\u001b[1;33m\u001b[0m\u001b[1;33m\u001b[0m\u001b[0m\n",
      "\u001b[1;32mc:\\users\\user\\appdata\\local\\continuum\\anaconda3\\envs\\pytorch\\lib\\site-packages\\tensorflow_core\\python\\eager\\function.py\u001b[0m in \u001b[0;36m_call_flat\u001b[1;34m(self, args, captured_inputs, cancellation_manager)\u001b[0m\n\u001b[0;32m   1690\u001b[0m       \u001b[1;31m# No tape is watching; skip to running the function.\u001b[0m\u001b[1;33m\u001b[0m\u001b[1;33m\u001b[0m\u001b[1;33m\u001b[0m\u001b[0m\n\u001b[0;32m   1691\u001b[0m       return self._build_call_outputs(self._inference_function.call(\n\u001b[1;32m-> 1692\u001b[1;33m           ctx, args, cancellation_manager=cancellation_manager))\n\u001b[0m\u001b[0;32m   1693\u001b[0m     forward_backward = self._select_forward_and_backward_functions(\n\u001b[0;32m   1694\u001b[0m         \u001b[0margs\u001b[0m\u001b[1;33m,\u001b[0m\u001b[1;33m\u001b[0m\u001b[1;33m\u001b[0m\u001b[0m\n",
      "\u001b[1;32mc:\\users\\user\\appdata\\local\\continuum\\anaconda3\\envs\\pytorch\\lib\\site-packages\\tensorflow_core\\python\\eager\\function.py\u001b[0m in \u001b[0;36mcall\u001b[1;34m(self, ctx, args, cancellation_manager)\u001b[0m\n\u001b[0;32m    543\u001b[0m               \u001b[0minputs\u001b[0m\u001b[1;33m=\u001b[0m\u001b[0margs\u001b[0m\u001b[1;33m,\u001b[0m\u001b[1;33m\u001b[0m\u001b[1;33m\u001b[0m\u001b[0m\n\u001b[0;32m    544\u001b[0m               \u001b[0mattrs\u001b[0m\u001b[1;33m=\u001b[0m\u001b[1;33m(\u001b[0m\u001b[1;34m\"executor_type\"\u001b[0m\u001b[1;33m,\u001b[0m \u001b[0mexecutor_type\u001b[0m\u001b[1;33m,\u001b[0m \u001b[1;34m\"config_proto\"\u001b[0m\u001b[1;33m,\u001b[0m \u001b[0mconfig\u001b[0m\u001b[1;33m)\u001b[0m\u001b[1;33m,\u001b[0m\u001b[1;33m\u001b[0m\u001b[1;33m\u001b[0m\u001b[0m\n\u001b[1;32m--> 545\u001b[1;33m               ctx=ctx)\n\u001b[0m\u001b[0;32m    546\u001b[0m         \u001b[1;32melse\u001b[0m\u001b[1;33m:\u001b[0m\u001b[1;33m\u001b[0m\u001b[1;33m\u001b[0m\u001b[0m\n\u001b[0;32m    547\u001b[0m           outputs = execute.execute_with_cancellation(\n",
      "\u001b[1;32mc:\\users\\user\\appdata\\local\\continuum\\anaconda3\\envs\\pytorch\\lib\\site-packages\\tensorflow_core\\python\\eager\\execute.py\u001b[0m in \u001b[0;36mquick_execute\u001b[1;34m(op_name, num_outputs, inputs, attrs, ctx, name)\u001b[0m\n\u001b[0;32m     59\u001b[0m     tensors = pywrap_tensorflow.TFE_Py_Execute(ctx._handle, device_name,\n\u001b[0;32m     60\u001b[0m                                                \u001b[0mop_name\u001b[0m\u001b[1;33m,\u001b[0m \u001b[0minputs\u001b[0m\u001b[1;33m,\u001b[0m \u001b[0mattrs\u001b[0m\u001b[1;33m,\u001b[0m\u001b[1;33m\u001b[0m\u001b[1;33m\u001b[0m\u001b[0m\n\u001b[1;32m---> 61\u001b[1;33m                                                num_outputs)\n\u001b[0m\u001b[0;32m     62\u001b[0m   \u001b[1;32mexcept\u001b[0m \u001b[0mcore\u001b[0m\u001b[1;33m.\u001b[0m\u001b[0m_NotOkStatusException\u001b[0m \u001b[1;32mas\u001b[0m \u001b[0me\u001b[0m\u001b[1;33m:\u001b[0m\u001b[1;33m\u001b[0m\u001b[1;33m\u001b[0m\u001b[0m\n\u001b[0;32m     63\u001b[0m     \u001b[1;32mif\u001b[0m \u001b[0mname\u001b[0m \u001b[1;32mis\u001b[0m \u001b[1;32mnot\u001b[0m \u001b[1;32mNone\u001b[0m\u001b[1;33m:\u001b[0m\u001b[1;33m\u001b[0m\u001b[1;33m\u001b[0m\u001b[0m\n",
      "\u001b[1;31mKeyboardInterrupt\u001b[0m: "
     ]
    }
   ],
   "source": [
    "history = model1.fit(X_train_t, y_train, validation_split=0.25, epochs=8)"
   ]
  },
  {
   "cell_type": "code",
   "execution_count": 41,
   "metadata": {},
   "outputs": [],
   "source": [
    "model1.save(\"NLP_char_model_0.84.h5\")"
   ]
  },
  {
   "cell_type": "code",
   "execution_count": 42,
   "metadata": {},
   "outputs": [],
   "source": [
    "answers = model1.predict_classes(X_test_t)"
   ]
  },
  {
   "cell_type": "code",
   "execution_count": 43,
   "metadata": {},
   "outputs": [
    {
     "data": {
      "text/plain": [
       "array([[0],\n",
       "       [0],\n",
       "       [0],\n",
       "       ...,\n",
       "       [0],\n",
       "       [0],\n",
       "       [1]])"
      ]
     },
     "execution_count": 43,
     "metadata": {},
     "output_type": "execute_result"
    }
   ],
   "source": [
    "answers"
   ]
  },
  {
   "cell_type": "code",
   "execution_count": 44,
   "metadata": {},
   "outputs": [
    {
     "data": {
      "text/html": [
       "<div>\n",
       "<style scoped>\n",
       "    .dataframe tbody tr th:only-of-type {\n",
       "        vertical-align: middle;\n",
       "    }\n",
       "\n",
       "    .dataframe tbody tr th {\n",
       "        vertical-align: top;\n",
       "    }\n",
       "\n",
       "    .dataframe thead th {\n",
       "        text-align: right;\n",
       "    }\n",
       "</style>\n",
       "<table border=\"1\" class=\"dataframe\">\n",
       "  <thead>\n",
       "    <tr style=\"text-align: right;\">\n",
       "      <th></th>\n",
       "      <th>answer</th>\n",
       "    </tr>\n",
       "  </thead>\n",
       "  <tbody>\n",
       "    <tr>\n",
       "      <th>0</th>\n",
       "      <td>False</td>\n",
       "    </tr>\n",
       "    <tr>\n",
       "      <th>1</th>\n",
       "      <td>False</td>\n",
       "    </tr>\n",
       "    <tr>\n",
       "      <th>2</th>\n",
       "      <td>False</td>\n",
       "    </tr>\n",
       "    <tr>\n",
       "      <th>3</th>\n",
       "      <td>True</td>\n",
       "    </tr>\n",
       "    <tr>\n",
       "      <th>4</th>\n",
       "      <td>False</td>\n",
       "    </tr>\n",
       "    <tr>\n",
       "      <th>...</th>\n",
       "      <td>...</td>\n",
       "    </tr>\n",
       "    <tr>\n",
       "      <th>996047</th>\n",
       "      <td>False</td>\n",
       "    </tr>\n",
       "    <tr>\n",
       "      <th>996048</th>\n",
       "      <td>False</td>\n",
       "    </tr>\n",
       "    <tr>\n",
       "      <th>996049</th>\n",
       "      <td>False</td>\n",
       "    </tr>\n",
       "    <tr>\n",
       "      <th>996050</th>\n",
       "      <td>False</td>\n",
       "    </tr>\n",
       "    <tr>\n",
       "      <th>996051</th>\n",
       "      <td>True</td>\n",
       "    </tr>\n",
       "  </tbody>\n",
       "</table>\n",
       "<p>996052 rows × 1 columns</p>\n",
       "</div>"
      ],
      "text/plain": [
       "        answer\n",
       "0        False\n",
       "1        False\n",
       "2        False\n",
       "3         True\n",
       "4        False\n",
       "...        ...\n",
       "996047   False\n",
       "996048   False\n",
       "996049   False\n",
       "996050   False\n",
       "996051    True\n",
       "\n",
       "[996052 rows x 1 columns]"
      ]
     },
     "execution_count": 44,
     "metadata": {},
     "output_type": "execute_result"
    }
   ],
   "source": [
    "ans_pd = pd.DataFrame({\"answer\": answers.flatten().astype(bool)})\n",
    "ans_pd"
   ]
  },
  {
   "cell_type": "code",
   "execution_count": 45,
   "metadata": {},
   "outputs": [],
   "source": [
    "ans_pd.to_csv(\"answer_neural_3.tsv\", sep=\"\\t\", index=False)"
   ]
  },
  {
   "cell_type": "code",
   "execution_count": null,
   "metadata": {},
   "outputs": [],
   "source": [
    "class CustomModel(tf.keras.Model):\n",
    "    def __init__(self, vocab_size, embedding_dim, units, batch_size):\n",
    "        super(Model, self).__init__()\n",
    "        self.units = units\n",
    "        self.batch_size = batch_size\n",
    " \n",
    "        self.embedding = tf.keras.layers.Embedding(vocab_size, embedding_dim)\n",
    " \n",
    "        self.gru = tf.keras.layers.GRU(self.units,\n",
    "                                       return_sequences=True,\n",
    "                                       return_state=True,\n",
    "                                       recurrent_activation='sigmoid',\n",
    "                                       recurrent_initializer='glorot_uniform')\n",
    "        self.fc = tf.keras.layers.Dense(vocab_size)\n",
    " \n",
    "    def call(self, inputs, hidden):\n",
    "        inputs = self.embedding(inputs)\n",
    "        #print(inputs)\n",
    "        output, states = self.gru(inputs, initial_state=hidden)\n",
    " \n",
    "        output = tf.reshape(output, (-1, output.shape[2]))\n",
    " \n",
    "        x = self.fc(output)\n",
    " \n",
    "        return x, states\n",
    "\n",
    "keras_model = CustomModel(vocab_size, embedding_dim, units, BATCH_SIZE)"
   ]
  }
 ],
 "metadata": {
  "kernelspec": {
   "display_name": "Python 3",
   "language": "python",
   "name": "python3"
  },
  "language_info": {
   "codemirror_mode": {
    "name": "ipython",
    "version": 3
   },
   "file_extension": ".py",
   "mimetype": "text/x-python",
   "name": "python",
   "nbconvert_exporter": "python",
   "pygments_lexer": "ipython3",
   "version": "3.7.5"
  }
 },
 "nbformat": 4,
 "nbformat_minor": 2
}
